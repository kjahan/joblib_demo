{
 "cells": [
  {
   "cell_type": "markdown",
   "id": "06add85b",
   "metadata": {},
   "source": [
    "## Test joblib"
   ]
  },
  {
   "cell_type": "code",
   "execution_count": 1,
   "id": "548e5ee4",
   "metadata": {},
   "outputs": [],
   "source": [
    "from joblib import Parallel, delayed\n",
    "\n",
    "import multiprocessing\n",
    "\n",
    "\n",
    "from math import sqrt\n",
    "import time as t"
   ]
  },
  {
   "cell_type": "code",
   "execution_count": 10,
   "id": "87edac43",
   "metadata": {},
   "outputs": [],
   "source": [
    "# check no of cores on your machine\n",
    "# https://stackoverflow.com/questions/1006289/how-to-find-out-the-number-of-cpus-using-python\n",
    "\n",
    "cores = multiprocessing.cpu_count()"
   ]
  },
  {
   "cell_type": "markdown",
   "id": "85fc84c8",
   "metadata": {},
   "source": [
    "## Simulate a time consuming ML job"
   ]
  },
  {
   "cell_type": "code",
   "execution_count": 11,
   "id": "869be762",
   "metadata": {},
   "outputs": [],
   "source": [
    "def ml_func(x):\n",
    "    t.sleep(1)"
   ]
  },
  {
   "cell_type": "markdown",
   "id": "6e7f7555",
   "metadata": {},
   "source": [
    "## Parralelize with one job"
   ]
  },
  {
   "cell_type": "code",
   "execution_count": 12,
   "id": "a069d14e",
   "metadata": {},
   "outputs": [
    {
     "name": "stdout",
     "output_type": "stream",
     "text": [
      "CPU times: user 4.89 ms, sys: 2.15 ms, total: 7.04 ms\n",
      "Wall time: 10 s\n"
     ]
    }
   ],
   "source": [
    "time res = Parallel(n_jobs=1)(delayed(ml_func)(i) for i in range(10))"
   ]
  },
  {
   "cell_type": "markdown",
   "id": "14bac850",
   "metadata": {},
   "source": [
    "## Parralelize with two job"
   ]
  },
  {
   "cell_type": "code",
   "execution_count": 16,
   "id": "44df43e2",
   "metadata": {},
   "outputs": [
    {
     "name": "stdout",
     "output_type": "stream",
     "text": [
      "CPU times: user 30.6 ms, sys: 16.8 ms, total: 47.4 ms\n",
      "Wall time: 5.84 s\n"
     ]
    }
   ],
   "source": [
    "time res = Parallel(n_jobs=2)(delayed(f)(i) for i in range(10))"
   ]
  },
  {
   "cell_type": "markdown",
   "id": "6e649406",
   "metadata": {},
   "source": [
    "## Parralelize with 4 jobs\n",
    "\n",
    "we have 4 cores on this machine"
   ]
  },
  {
   "cell_type": "code",
   "execution_count": 15,
   "id": "285e77e7",
   "metadata": {},
   "outputs": [
    {
     "name": "stdout",
     "output_type": "stream",
     "text": [
      "CPU times: user 17.7 ms, sys: 3.81 ms, total: 21.5 ms\n",
      "Wall time: 3.02 s\n"
     ]
    }
   ],
   "source": [
    "time res = Parallel(n_jobs=cores)(delayed(ml_func)(i**2) for i in range(10))"
   ]
  },
  {
   "cell_type": "markdown",
   "id": "f72dafaa",
   "metadata": {},
   "source": [
    "## No parallelization"
   ]
  },
  {
   "cell_type": "code",
   "execution_count": 18,
   "id": "a5b025e1",
   "metadata": {},
   "outputs": [
    {
     "name": "stdout",
     "output_type": "stream",
     "text": [
      "CPU times: user 1.37 ms, sys: 1.85 ms, total: 3.22 ms\n",
      "Wall time: 10 s\n"
     ]
    }
   ],
   "source": [
    "time res = [ml_func(i) for i in range(10)]"
   ]
  },
  {
   "cell_type": "code",
   "execution_count": null,
   "id": "854b6669",
   "metadata": {},
   "outputs": [],
   "source": []
  }
 ],
 "metadata": {
  "kernelspec": {
   "display_name": "Python [conda env:lang] *",
   "language": "python",
   "name": "conda-env-lang-py"
  },
  "language_info": {
   "codemirror_mode": {
    "name": "ipython",
    "version": 3
   },
   "file_extension": ".py",
   "mimetype": "text/x-python",
   "name": "python",
   "nbconvert_exporter": "python",
   "pygments_lexer": "ipython3",
   "version": "3.6.12"
  }
 },
 "nbformat": 4,
 "nbformat_minor": 5
}
